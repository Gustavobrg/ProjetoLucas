{
 "cells": [
  {
   "cell_type": "code",
   "execution_count": 2,
   "id": "2a8f7069",
   "metadata": {},
   "outputs": [
    {
     "name": "stderr",
     "output_type": "stream",
     "text": [
      "Cloning into 'yolov5'...\n"
     ]
    }
   ],
   "source": [
    "!git clone https://github.com/ultralytics/yolov5"
   ]
  },
  {
   "cell_type": "code",
   "execution_count": 1,
   "id": "03b3fd16",
   "metadata": {},
   "outputs": [
    {
     "data": {
      "text/plain": [
       "[PhysicalDevice(name='/physical_device:GPU:0', device_type='GPU')]"
      ]
     },
     "execution_count": 1,
     "metadata": {},
     "output_type": "execute_result"
    }
   ],
   "source": [
    "import tensorflow as tf\n",
    "from tensorflow.python.client import device_lib\n",
    "tf.config.list_physical_devices('GPU')"
   ]
  },
  {
   "cell_type": "code",
   "execution_count": 2,
   "id": "0694febb",
   "metadata": {},
   "outputs": [
    {
     "data": {
      "text/plain": [
       "[name: \"/device:CPU:0\"\n",
       " device_type: \"CPU\"\n",
       " memory_limit: 268435456\n",
       " locality {\n",
       " }\n",
       " incarnation: 15526834566269077064,\n",
       " name: \"/device:XLA_CPU:0\"\n",
       " device_type: \"XLA_CPU\"\n",
       " memory_limit: 17179869184\n",
       " locality {\n",
       " }\n",
       " incarnation: 3801716026211700073\n",
       " physical_device_desc: \"device: XLA_CPU device\",\n",
       " name: \"/device:GPU:0\"\n",
       " device_type: \"GPU\"\n",
       " memory_limit: 3044750132\n",
       " locality {\n",
       "   bus_id: 1\n",
       "   links {\n",
       "   }\n",
       " }\n",
       " incarnation: 10536123890108287186\n",
       " physical_device_desc: \"device: 0, name: NVIDIA GeForce GTX 1650, pci bus id: 0000:01:00.0, compute capability: 7.5\",\n",
       " name: \"/device:XLA_GPU:0\"\n",
       " device_type: \"XLA_GPU\"\n",
       " memory_limit: 17179869184\n",
       " locality {\n",
       " }\n",
       " incarnation: 15362930300513087034\n",
       " physical_device_desc: \"device: XLA_GPU device\"]"
      ]
     },
     "execution_count": 2,
     "metadata": {},
     "output_type": "execute_result"
    }
   ],
   "source": [
    "device_lib.list_local_devices()"
   ]
  },
  {
   "cell_type": "code",
   "execution_count": 3,
   "id": "e330e3b2",
   "metadata": {},
   "outputs": [
    {
     "name": "stdout",
     "output_type": "stream",
     "text": [
      "C:\\Users\\gusta\\Documents\\UFG\\Redes Neurais Profundas\\Trabalho final\\yolov5\n"
     ]
    }
   ],
   "source": [
    "%cd yolov5"
   ]
  },
  {
   "cell_type": "code",
   "execution_count": 4,
   "id": "940248a5",
   "metadata": {},
   "outputs": [
    {
     "name": "stdout",
     "output_type": "stream",
     "text": [
      "Note: you may need to restart the kernel to use updated packages.\n"
     ]
    }
   ],
   "source": [
    "%pip install -qr requirements.txt"
   ]
  },
  {
   "cell_type": "code",
   "execution_count": 2,
   "id": "0d1e78ae",
   "metadata": {},
   "outputs": [],
   "source": [
    "# These are all the modules we'll be using later.\n",
    "from __future__ import print_function\n",
    "import numpy as np\n",
    "\n",
    "from six.moves import cPickle as pickle\n",
    "from six.moves import range\n",
    "\n",
    "import os\n",
    "import sys\n",
    "import tarfile\n",
    "from IPython.display import display, Image\n",
    "\n",
    "import h5py\n",
    "\n",
    "import matplotlib.pyplot as plt\n",
    "\n",
    "from PIL import Image\n",
    "import random\n",
    "from collections import Counter\n",
    "from urllib.request import urlretrieve\n",
    "import cv2\n",
    "import tqdm\n",
    "%matplotlib inline"
   ]
  },
  {
   "cell_type": "code",
   "execution_count": 20,
   "id": "f7815bc0",
   "metadata": {},
   "outputs": [
    {
     "name": "stdout",
     "output_type": "stream",
     "text": [
      "Extracting data for train. This may take a while. Please wait.\n",
      "digitStruct.mat is missing\n",
      "Extracting data for test. This may take a while. Please wait.\n",
      "digitStruct.mat is missing\n"
     ]
    }
   ],
   "source": [
    "num_classes = 10\n",
    "np.random.seed(133)\n",
    "\n",
    "train_filename = 'train.tar.gz'\n",
    "test_filename = 'test.tar.gz'\n",
    "# extra_filename = 'extra.tar.gz'\n",
    "\n",
    "def maybe_extract(filename, force=False):\n",
    "    root = os.path.splitext(os.path.splitext(filename)[0])[0]  # remove .tar.gz\n",
    "    if os.path.isdir(root) and not force:\n",
    "        # You may override by setting force=True.\n",
    "        print('%s already present - Skipping extraction of %s.' % (root, filename))\n",
    "    else:\n",
    "        print('Extracting data for %s. This may take a while. Please wait.' % root)\n",
    "        tar = tarfile.open(filename)\n",
    "        sys.stdout.flush()\n",
    "        tar.extractall(\"C:/Users/gusta/Documents/UFG/Redes Neurais Profundas/Trabalho final/yolov5/data\")\n",
    "        tar.close()\n",
    "    if not os.path.exists(root+'/digitStruct.mat'):\n",
    "        print(\"digitStruct.mat is missing\")\n",
    "    return root + '/digitStruct.mat'\n",
    "  \n",
    "  \n",
    "train_folders = maybe_extract(train_filename)\n",
    "test_folders = maybe_extract(test_filename)"
   ]
  },
  {
   "cell_type": "code",
   "execution_count": 2,
   "id": "a716f2d9",
   "metadata": {},
   "outputs": [],
   "source": [
    "#https://stackoverflow.com/questions/41176258/h5py-access-data-in-datasets-in-svhn\n",
    "def get_box_data(index, hdf5_data):\n",
    "    \"\"\"\n",
    "    get `left, top, width, height` of each picture\n",
    "    :param index:\n",
    "    :param hdf5_data:\n",
    "    :return:\n",
    "    \"\"\"\n",
    "    meta_data = dict()\n",
    "    meta_data['height'] = []\n",
    "    meta_data['label'] = []\n",
    "    meta_data['left'] = []\n",
    "    meta_data['top'] = []\n",
    "    meta_data['width'] = []\n",
    "\n",
    "    def print_attrs(name, obj):\n",
    "        vals = []\n",
    "        if obj.shape[0] == 1:\n",
    "            vals.append(obj[0][0])\n",
    "        else:\n",
    "            for k in range(obj.shape[0]):\n",
    "                vals.append(int(hdf5_data[obj[k][0]][0][0]))\n",
    "        meta_data[name] = vals\n",
    "\n",
    "    box = hdf5_data['/digitStruct/bbox'][index]\n",
    "    hdf5_data[box[0]].visititems(print_attrs)\n",
    "    return meta_data\n",
    "\n",
    "def get_name(index, hdf5_data):\n",
    "    name = hdf5_data['/digitStruct/name']\n",
    "    return ''.join([chr(v[0]) for v in hdf5_data[name[index][0]].value])"
   ]
  },
  {
   "cell_type": "code",
   "execution_count": 3,
   "id": "cc59ba83",
   "metadata": {},
   "outputs": [],
   "source": [
    "#https://blog.paperspace.com/train-yolov5-custom-data/\n",
    "def convert_to_yolov5(info_dict, name, path, conjunto):\n",
    "    path_im = os.path.join(path,conjunto, name)\n",
    "    im = cv2.imread(path_im)\n",
    "    print_buffer = []\n",
    "    h, w, c = im.shape\n",
    "    #print(h, w, c)\n",
    "    \n",
    "    # For each bounding box\n",
    "    for i in range(len(info_dict['height'])):\n",
    "\n",
    "        class_id = info_dict['label'][i]\n",
    "        \n",
    "        # Transform the bbox co-ordinates as per the format required by YOLO v5\n",
    "        b_center_x = (info_dict['left'][i] + (info_dict['width'][i] / 2))\n",
    "        b_center_y = (info_dict['top'][i] + (info_dict['height'][i] / 2))\n",
    "        b_width    = info_dict['width'][i]\n",
    "        b_height   = info_dict['height'][i]\n",
    "\n",
    "        b_center_x /= w\n",
    "        b_center_y /= h\n",
    "        b_width    /= w\n",
    "        b_height    /= h\n",
    "        \n",
    "        \n",
    "        #Write the bbox details to the file \n",
    "        print_buffer.append(\"{} {:.3f} {:.3f} {:.3f} {:.3f}\".format(class_id-1, b_center_x, b_center_y, b_width, b_height))\n",
    "        \n",
    "        # Name of the file which we have to save\n",
    "        save_file_name = os.path.join(path,conjunto, name.replace(\"png\", \"txt\"))\n",
    "        \n",
    "        # Save the annotation to disk\n",
    "        print(\"\\n\".join(print_buffer), file= open(save_file_name, \"w\"))"
   ]
  },
  {
   "cell_type": "code",
   "execution_count": 4,
   "id": "856b351c",
   "metadata": {},
   "outputs": [],
   "source": [
    "def cria_label_to_yolo(conjunto, path):\n",
    "\n",
    "  mat_data = h5py.File(os.path.join(path+conjunto+\"/\", 'digitStruct.mat'))\n",
    "  size = mat_data['/digitStruct/name'].size\n",
    "\n",
    "  for _i in tqdm.tqdm(range(size)):\n",
    "      pic = get_name(_i, mat_data)\n",
    "      box = get_box_data(_i, mat_data)\n",
    "      convert_to_yolov5(box, pic, path, conjunto)"
   ]
  },
  {
   "cell_type": "code",
   "execution_count": 5,
   "id": "c1be1754",
   "metadata": {},
   "outputs": [
    {
     "name": "stderr",
     "output_type": "stream",
     "text": [
      "  0%|          | 0/33402 [00:00<?, ?it/s]C:\\Users\\gusta\\anaconda3\\envs\\Deep\\lib\\site-packages\\h5py\\_hl\\dataset.py:313: H5pyDeprecationWarning: dataset.value has been deprecated. Use dataset[()] instead.\n",
      "  \"Use dataset[()] instead.\", H5pyDeprecationWarning)\n",
      "100%|██████████| 33402/33402 [08:36<00:00, 64.62it/s]\n"
     ]
    }
   ],
   "source": [
    "cria_label_to_yolo(\"train\", \"C:/Users/gusta/Documents/UFG/Redes Neurais Profundas/Trabalho final/yolov5/data/\")"
   ]
  },
  {
   "cell_type": "code",
   "execution_count": 8,
   "id": "39970815",
   "metadata": {},
   "outputs": [
    {
     "name": "stderr",
     "output_type": "stream",
     "text": [
      "100%|██████████| 13068/13068 [02:47<00:00, 78.05it/s]\n"
     ]
    }
   ],
   "source": [
    "cria_label_to_yolo(\"test\", \"C:/Users/gusta/Documents/UFG/Redes Neurais Profundas/Trabalho final/yolov5/data/\")"
   ]
  },
  {
   "cell_type": "code",
   "execution_count": 5,
   "id": "693f599e",
   "metadata": {},
   "outputs": [],
   "source": [
    "!python train.py --batch 32 --epochs 20 --data dataset.yaml --weights yolov5m.pt"
   ]
  },
  {
   "cell_type": "code",
   "execution_count": null,
   "id": "b3a1eac6",
   "metadata": {},
   "outputs": [],
   "source": []
  }
 ],
 "metadata": {
  "kernelspec": {
   "display_name": "gpu2",
   "language": "python",
   "name": "gpu2"
  },
  "language_info": {
   "codemirror_mode": {
    "name": "ipython",
    "version": 3
   },
   "file_extension": ".py",
   "mimetype": "text/x-python",
   "name": "python",
   "nbconvert_exporter": "python",
   "pygments_lexer": "ipython3",
   "version": "3.7.13"
  }
 },
 "nbformat": 4,
 "nbformat_minor": 5
}
